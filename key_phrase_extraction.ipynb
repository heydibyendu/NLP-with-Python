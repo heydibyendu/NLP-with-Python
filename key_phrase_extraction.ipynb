{
 "cells": [
  {
   "cell_type": "code",
   "execution_count": 1,
   "metadata": {},
   "outputs": [],
   "source": [
    "# Import spacy and texacy\n",
    "import spacy\n",
    "import textacy\n",
    "from textacy.ke import textrank, sgrank"
   ]
  },
  {
   "cell_type": "code",
   "execution_count": 2,
   "metadata": {},
   "outputs": [],
   "source": [
    "# Load a spacy model\n",
    "en = textacy.load_spacy_lang('en_core_web_sm')"
   ]
  },
  {
   "cell_type": "code",
   "execution_count": 3,
   "metadata": {},
   "outputs": [],
   "source": [
    "# Load in the text data\n",
    "mytext = open('data/myarticle.txt', encoding='utf8').read()"
   ]
  },
  {
   "cell_type": "code",
   "execution_count": 4,
   "metadata": {},
   "outputs": [],
   "source": [
    "# Convert the text into a spacy document\n",
    "doc = textacy.make_spacy_doc(mytext, lang=en)"
   ]
  },
  {
   "cell_type": "code",
   "execution_count": 5,
   "metadata": {},
   "outputs": [
    {
     "data": {
      "text/plain": [
       "[('social medium company', 0.026812462366143444),\n",
       " ('outspoken black nationalist minister', 0.02455875080356081),\n",
       " ('large technology company', 0.022781479407385473),\n",
       " ('Silicon Valley company', 0.022750617448471778),\n",
       " ('Facebook spokeswoman', 0.020269002967446194),\n",
       " ('profile extremist', 0.014395433805769839),\n",
       " ('controversial user', 0.014223327119411107),\n",
       " ('social network', 0.014075256676270732),\n",
       " ('dangerous individual', 0.013191447061165594),\n",
       " ('Alex Jones', 0.010999816186346378)]"
      ]
     },
     "execution_count": 5,
     "metadata": {},
     "output_type": "execute_result"
    }
   ],
   "source": [
    "# Inspect the doc\n",
    "textacy.ke.textrank(doc, topn=10)"
   ]
  },
  {
   "cell_type": "code",
   "execution_count": 6,
   "metadata": {},
   "outputs": [
    {
     "name": "stdout",
     "output_type": "stream",
     "text": [
      "Textrank Output: ['social medium company', 'outspoken black nationalist minister', 'large technology company', 'Silicon Valley company', 'Facebook spokeswoman']\n"
     ]
    }
   ],
   "source": [
    "# Print the keywords using TextRank algorithm\n",
    "print('Textrank Output:', [kps for kps, weight in textrank(doc, normalize='lemma', topn=5)])"
   ]
  },
  {
   "cell_type": "code",
   "execution_count": 7,
   "metadata": {},
   "outputs": [
    {
     "name": "stdout",
     "output_type": "stream",
     "text": [
      "SGRank Output: ['outspoken black nationalist minister', 'large technology company', 'Silicon Valley company', 'SAN FRANCISCO', 'Facebook']\n"
     ]
    }
   ],
   "source": [
    "# Print the key words and phrases, using SGRank algorithm\n",
    "print('SGRank Output:', [kps for kps, weight in sgrank(doc, topn=5)])"
   ]
  },
  {
   "cell_type": "markdown",
   "metadata": {},
   "source": [
    "We can see there are overlapping key phrases. Let's pick one of the grouped terms per item to get a list of non-overlapping key phrases using textacy's **aggregage_term_variants**."
   ]
  },
  {
   "cell_type": "code",
   "execution_count": 8,
   "metadata": {},
   "outputs": [
    {
     "name": "stdout",
     "output_type": "stream",
     "text": [
      "[{'outspoken black nationalist minister'}, {'large technology company'}, {'Silicon Valley company'}, {'conspiracy theorist'}, {'controversial user'}, {'Louis Farrakhan'}, {'SAN FRANCISCO'}, {'extreme voice'}, {'Alex Jones'}, {'Facebook'}]\n"
     ]
    }
   ],
   "source": [
    "# Addressing the verlapping key phrases problem\n",
    "terms = set(term for term, weight in sgrank(doc))\n",
    "print(textacy.ke.utils.aggregate_term_variants(terms))"
   ]
  },
  {
   "cell_type": "markdown",
   "metadata": {},
   "source": [
    "All the noun chunks as the potential key phrases. Let's extract all the noun chunks. However, we can't rank them."
   ]
  },
  {
   "cell_type": "code",
   "execution_count": 9,
   "metadata": {},
   "outputs": [
    {
     "name": "stdout",
     "output_type": "stream",
     "text": [
      "[SAN FRANCISCO, years, extreme voices, platform, Facebook, Thursday, most controversial users, whom, conservatives, debate, power, accountability, large technology companies, social network, it, Alex Jones, conspiracy theorist, founder, Infowars, platform, handful, other extremists, Louis Farrakhan, outspoken black nationalist minister, who, anti-Semitic remarks, Silicon Valley company, users, Facebook, Instagram, policies, dangerous individuals, organizations, We, individuals, organizations, violence, hate, ideology, Facebook spokeswoman, statement, process, potential violators, it, what, us, decision, accounts, move, tech industry, broadest actions, high-profile extremists, time, social media companies, fire, hateful content, misinformation, services]\n"
     ]
    }
   ],
   "source": [
    "# Print key phrases\n",
    "print([chunk for chunk in textacy.extract.noun_chunks(doc)])"
   ]
  }
 ],
 "metadata": {
  "kernelspec": {
   "display_name": "Python 3",
   "language": "python",
   "name": "python3"
  },
  "language_info": {
   "codemirror_mode": {
    "name": "ipython",
    "version": 3
   },
   "file_extension": ".py",
   "mimetype": "text/x-python",
   "name": "python",
   "nbconvert_exporter": "python",
   "pygments_lexer": "ipython3",
   "version": "3.7.7"
  }
 },
 "nbformat": 4,
 "nbformat_minor": 4
}
