{
 "cells": [
  {
   "cell_type": "code",
   "execution_count": 10,
   "metadata": {},
   "outputs": [],
   "source": [
    "# Import spacy and texacy\n",
    "import spacy\n",
    "import textacy.ke\n",
    "from textacy.ke.utils import aggregate_term_variants"
   ]
  },
  {
   "cell_type": "code",
   "execution_count": 3,
   "metadata": {},
   "outputs": [],
   "source": [
    "# Load a spacy model\n",
    "en = textacy.load_spacy_lang('en_core_web_sm')"
   ]
  },
  {
   "cell_type": "code",
   "execution_count": 4,
   "metadata": {},
   "outputs": [],
   "source": [
    "# Let us use a sample text file, nlphistory.txt, which is the text from the history section of Wikipedia's\n",
    "# page on Natural Language Processing\n",
    "mytext = open('./Data/nlphistory.txt').read()"
   ]
  },
  {
   "cell_type": "code",
   "execution_count": 5,
   "metadata": {},
   "outputs": [],
   "source": [
    "# Convert the text into a spacy document\n",
    "doc = textacy.make_spacy_doc(mytext, lang=en)"
   ]
  },
  {
   "cell_type": "code",
   "execution_count": 6,
   "metadata": {},
   "outputs": [
    {
     "data": {
      "text/plain": [
       "[('successful natural language processing system', 0.024747020006318884),\n",
       " ('statistical machine translation system', 0.024619543495193394),\n",
       " ('natural language system', 0.020510235424315678),\n",
       " ('statistical natural language processing', 0.01857077705295509),\n",
       " ('natural language task', 0.01578699892777252),\n",
       " ('machine learning algorithm', 0.015477893072643328),\n",
       " ('style machine learning method', 0.014926608302122429),\n",
       " ('term neural machine translation', 0.014748947460180904),\n",
       " ('speech recognition system', 0.012595485590133421),\n",
       " ('cache language model', 0.012583412698375781)]"
      ]
     },
     "execution_count": 6,
     "metadata": {},
     "output_type": "execute_result"
    }
   ],
   "source": [
    "# Inspect the doc\n",
    "textacy.ke.textrank(doc, topn=10)"
   ]
  },
  {
   "cell_type": "code",
   "execution_count": 7,
   "metadata": {},
   "outputs": [
    {
     "name": "stdout",
     "output_type": "stream",
     "text": [
      "Textrank Output: ['successful natural language processing system', 'statistical machine translation system', 'natural language system', 'statistical natural language processing', 'natural language task']\n"
     ]
    }
   ],
   "source": [
    "# Print the keywords using TextRank algorithm, as implemented in Textacy\n",
    "print('Textrank Output:', [kps for kps, weight in textacy.ke.textrank(doc, normalize='lemma', topn=5)])"
   ]
  },
  {
   "cell_type": "code",
   "execution_count": 8,
   "metadata": {},
   "outputs": [
    {
     "name": "stdout",
     "output_type": "stream",
     "text": [
      "SGRank Output: ['natural language processing system', 'statistical machine translation', 'research', 'late 1980', 'early']\n"
     ]
    }
   ],
   "source": [
    "# Print the key words and phrases, using SGRank algorithm, as implemented in Textacy\n",
    "print('SGRank Output:', [kps for kps, weight in textacy.ke.sgrank(doc, topn=5)])"
   ]
  },
  {
   "cell_type": "markdown",
   "metadata": {},
   "source": [
    "We can see there are overlapping key phrases. Let's pick one of the grouped terms per item to get a list of non-overlapping key phrases using textacy's **aggregage_term_variants**."
   ]
  },
  {
   "cell_type": "code",
   "execution_count": 11,
   "metadata": {},
   "outputs": [
    {
     "name": "stdout",
     "output_type": "stream",
     "text": [
      "[{'natural language processing system'}, {'statistical machine translation'}, {'statistical model'}, {'late 1980'}, {'research'}, {'example'}, {'ELIZA'}, {'early'}, {'world'}, {'real'}]\n"
     ]
    }
   ],
   "source": [
    "# Addressing the verlapping key phrases problem\n",
    "terms = set(term for term, weight in textacy.ke.sgrank(doc))\n",
    "print(aggregate_term_variants(terms))"
   ]
  },
  {
   "cell_type": "markdown",
   "metadata": {},
   "source": [
    "All the noun chunks as the potential key phrases. Let's take a look at the key phrases."
   ]
  },
  {
   "cell_type": "code",
   "execution_count": 13,
   "metadata": {},
   "outputs": [
    {
     "name": "stdout",
     "output_type": "stream",
     "text": [
      "[history, natural language processing, 1950s, work, earlier periods, Alan Turing, article, what, criterion, intelligence, Georgetown experiment, fully automatic translation, more than sixty Russian sentences, English, authors, three or five years, machine translation, real progress, ALPAC report, ten-year-long research, expectations, machine translation, Little further research, machine translation, late 1980s, first statistical machine translation systems, notably successful natural language processing systems, SHRDLU, natural language system, restricted \"blocks worlds, restricted vocabularies, ELIZA, simulation, Rogerian psychotherapist, Joseph Weizenbaum, almost no information, human thought, emotion, ELIZA, startlingly human-like interaction, \"patient, very small knowledge base, ELIZA, generic response, example, head, you, head, 1970s, many programmers, \"conceptual ontologies, real-world information, computer-understandable data, Examples, MARGIE, Schank, Cullingford, (Wilensky, Lehnert, (Carbonell, Lehnert, time, many chatterbots, PARRY, Racter, Jabberwacky, 1980s, most natural language processing systems, complex sets, hand-written rules, late 1980s, revolution, natural language processing, introduction, algorithms, language processing, both the steady increase, computational power, Moore's law, dominance, Chomskyan theories, linguistics, (e.g. transformational grammar, theoretical underpinnings, sort, corpus linguistics, machine-learning approach, language processing.[3, earliest-used machine learning algorithms, decision trees, produced systems, if-then rules, existing hand-written rules, speech, use, hidden Markov models, natural language processing, research, statistical models, soft, probabilistic decisions, real-valued weights, features, input data, cache language models, many speech recognition systems, examples, such statistical models, Such models, unfamiliar input, errors, real-world data, more reliable results, larger system, multiple subtasks, notable early successes, field, machine translation, IBM Research, successively more complicated statistical models, systems, advantage, existing multilingual textual corpora, Parliament, Canada, European Union, result, laws, translation, governmental proceedings, official languages, corresponding systems, government, most other systems, corpora, tasks, systems, major limitation, success, systems, result, great deal, research, methods, limited amounts, data, Recent research, unsupervised and semi-supervised learning algorithms, Such algorithms, data, desired answers, combination, annotated and non-annotated data, task, supervised learning, less accurate results, given amount, input data, enormous amount, non-annotated data, other things, entire content, World Wide Web, inferior results, algorithm, low enough time complexity, 2010s, representation learning, deep neural network-style machine learning methods, natural language processing, part, flurry, results, such techniques[4][5, -art, many natural language tasks, example, language, modeling,[6] parsing,[7][8, many others, Popular techniques, use, word embeddings, semantic properties, words, increase, end, higher-level task, (e.g., question answering, pipeline, separate intermediate tasks, speech, dependency parsing, areas, shift, substantial changes, NLP systems, deep neural network-based approaches, statistical natural language processing, instance, term neural machine translation, NMT, fact, that deep learning-based approaches, machine translation, sequence, need, intermediate steps, word alignment, language modeling, statistical machine translation, SMT]\n"
     ]
    }
   ],
   "source": [
    "# Print key phrases\n",
    "print([chunk for chunk in textacy.extract.noun_chunks(doc)])"
   ]
  },
  {
   "cell_type": "code",
   "execution_count": null,
   "metadata": {},
   "outputs": [],
   "source": []
  }
 ],
 "metadata": {
  "kernelspec": {
   "display_name": "Python 3",
   "language": "python",
   "name": "python3"
  },
  "language_info": {
   "codemirror_mode": {
    "name": "ipython",
    "version": 3
   },
   "file_extension": ".py",
   "mimetype": "text/x-python",
   "name": "python",
   "nbconvert_exporter": "python",
   "pygments_lexer": "ipython3",
   "version": "3.7.7"
  }
 },
 "nbformat": 4,
 "nbformat_minor": 4
}
